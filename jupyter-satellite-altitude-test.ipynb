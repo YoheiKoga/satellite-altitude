{
 "cells": [
  {
   "cell_type": "code",
   "execution_count": 1,
   "metadata": {},
   "outputs": [],
   "source": [
    "from datetime import datetime, timedelta\n",
    "import math\n",
    "import sys\n",
    "import csv\n",
    "import numpy as np"
   ]
  },
  {
   "cell_type": "code",
   "execution_count": 4,
   "metadata": {},
   "outputs": [],
   "source": [
    "mu = 3.986e+5\n",
    "\n",
    "def dateconvert(timeset):\n",
    "    year = 2000 + int(timeset[0:2])\n",
    "    decimal_days = float(timeset[2:])\n",
    "    datetimeconvert = datetime(year, 1, 1) + timedelta(decimal_days - 1)\n",
    "    \n",
    "    return datetimeconvert\n",
    "\n",
    "def altitudeconvert(meanmotion):\n",
    "    sma = (mu/4*(24*60*60/float(meanmotion)/math.pi)**2)**(1/3)\n",
    "    \n",
    "    return sma"
   ]
  },
  {
   "cell_type": "code",
   "execution_count": 6,
   "metadata": {},
   "outputs": [
    {
     "name": "stdout",
     "output_type": "stream",
     "text": [
      "2020-01-31 05:59:28.842432 6797.428097757912\n",
      "2020-01-31 12:30:52.142112 6797.425663924171\n",
      "2020-01-31 16:43:54.986016 6797.422150665607\n",
      "2020-01-31 21:34:32.532960 6797.416721359052\n",
      "2020-01-31 21:34:32.532960 6797.416721359052\n"
     ]
    }
   ],
   "source": [
    "# specify TLE file directly, for example: ./TLE-file/ISS-test.tle\n",
    "f = open('./TLE-file/ISS-test.tle')\n",
    "line = f.readlines()\n",
    "f.close\n",
    "\n",
    "lineToList = np.array(line).reshape(-1,2).tolist()\n",
    "\n",
    "# print data\n",
    "for l in lineToList:\n",
    "    print(dateconvert(l[0].split()[3]), altitudeconvert(l[1].split()[7][0:11]))"
   ]
  },
  {
   "cell_type": "code",
   "execution_count": null,
   "metadata": {},
   "outputs": [],
   "source": []
  }
 ],
 "metadata": {
  "kernelspec": {
   "display_name": "Python 3",
   "language": "python",
   "name": "python3"
  },
  "language_info": {
   "codemirror_mode": {
    "name": "ipython",
    "version": 3
   },
   "file_extension": ".py",
   "mimetype": "text/x-python",
   "name": "python",
   "nbconvert_exporter": "python",
   "pygments_lexer": "ipython3",
   "version": "3.8.0"
  }
 },
 "nbformat": 4,
 "nbformat_minor": 2
}
